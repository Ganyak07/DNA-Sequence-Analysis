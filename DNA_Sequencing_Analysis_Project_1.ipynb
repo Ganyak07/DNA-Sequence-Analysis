{
  "nbformat": 4,
  "nbformat_minor": 0,
  "metadata": {
    "colab": {
      "provenance": []
    },
    "kernelspec": {
      "name": "python3",
      "display_name": "Python 3"
    },
    "language_info": {
      "name": "python"
    }
  },
  "cells": [
    {
      "cell_type": "markdown",
      "source": [
        "# **DNA Sequencing Analysis Project**\n",
        "this project focuses on analyzing DNA sequencing data to perform various tasks such as finding patterns, identifying problematic sequencing cycles, and more. The project includes implementations of algorithms to address specific questions related to DNA sequencing."
      ],
      "metadata": {
        "id": "QyUgLFxyRnZb"
      }
    },
    {
      "cell_type": "code",
      "execution_count": 1,
      "metadata": {
        "id": "jE5DHDwMKaLY"
      },
      "outputs": [],
      "source": [
        "import requests\n",
        "\n",
        "url = \"https://d28rh4a8wq0iu5.cloudfront.net/ads1/data/lambda_virus.fa\"\n",
        "response = requests.get(url)\n",
        "with open(\"lambda_virus.fa\", \"wb\") as f:\n",
        "    f.write(response.content)\n",
        "\n"
      ]
    },
    {
      "cell_type": "code",
      "source": [
        "def reverse_complement(seq):\n",
        "    complement = {'A': 'T', 'C': 'G', 'G': 'C', 'T': 'A'}\n",
        "    return ''.join(complement[base] for base in reversed(seq))\n",
        "\n",
        "def count_pattern_occurrences(genome, pattern):\n",
        "    count = 0\n",
        "    pattern_rc = reverse_complement(pattern)\n",
        "    for i in range(len(genome) - len(pattern) + 1):\n",
        "        if genome[i:i+len(pattern)] == pattern or genome[i:i+len(pattern)] == pattern_rc:\n",
        "            count += 1\n",
        "    return count\n",
        "\n",
        "# Read the lambda virus genome sequence\n",
        "with open(\"lambda_virus.fa\") as f:\n",
        "    lines = f.readlines()[1:]\n",
        "    genome = ''.join(line.strip() for line in lines)\n",
        "\n",
        "# Define the pattern\n",
        "pattern = \"AGGT\"\n",
        "\n",
        "# Count the occurrences of the pattern and its reverse complement\n",
        "count_aggt = count_pattern_occurrences(genome, pattern)\n",
        "count_acct = count_pattern_occurrences(genome, reverse_complement(pattern))\n",
        "\n",
        "# Calculate the total count\n",
        "total_count = count_aggt + count_acct\n",
        "\n",
        "print(\"Total occurrences of AGGT and its reverse complement ACCT:\", total_count)\n"
      ],
      "metadata": {
        "colab": {
          "base_uri": "https://localhost:8080/"
        },
        "id": "rRG51yjjMWwo",
        "outputId": "0134235d-f377-4ca9-f8b6-649256d6cfcf"
      },
      "execution_count": 2,
      "outputs": [
        {
          "output_type": "stream",
          "name": "stdout",
          "text": [
            "Total occurrences of AGGT and its reverse complement ACCT: 612\n"
          ]
        }
      ]
    },
    {
      "cell_type": "code",
      "source": [
        "def reverse_complement(seq):\n",
        "    complement = {'A': 'T', 'C': 'G', 'G': 'C', 'T': 'A'}\n",
        "    return ''.join(complement[base] for base in reversed(seq))\n",
        "\n",
        "def count_pattern_occurrences(genome, pattern):\n",
        "    count = 0\n",
        "    for i in range(len(genome) - len(pattern) + 1):\n",
        "        if genome[i:i+len(pattern)] == pattern:\n",
        "            count += 1\n",
        "    return count\n",
        "\n",
        "# Read the lambda virus genome sequence\n",
        "with open(\"lambda_virus.fa\") as f:\n",
        "    lines = f.readlines()[1:]\n",
        "    genome = ''.join(line.strip() for line in lines)\n",
        "\n",
        "# Define the pattern\n",
        "pattern = \"TTAA\"\n",
        "\n",
        "# Count the occurrences of the pattern and its reverse complement\n",
        "count_ttaa = count_pattern_occurrences(genome, pattern)\n",
        "\n",
        "# Print the count\n",
        "print(\"Total occurrences of TTAA in the lambda virus genome:\", count_ttaa)\n"
      ],
      "metadata": {
        "colab": {
          "base_uri": "https://localhost:8080/"
        },
        "id": "_adLcvXUMlOf",
        "outputId": "3e12746b-2397-4757-8e8a-cde1c085b838"
      },
      "execution_count": 3,
      "outputs": [
        {
          "output_type": "stream",
          "name": "stdout",
          "text": [
            "Total occurrences of TTAA in the lambda virus genome: 195\n"
          ]
        }
      ]
    },
    {
      "cell_type": "code",
      "source": [
        "def reverse_complement(seq):\n",
        "    complement = {'A': 'T', 'C': 'G', 'G': 'C', 'T': 'A'}\n",
        "    return ''.join(complement[base] for base in reversed(seq))\n",
        "\n",
        "# Read the lambda virus genome sequence\n",
        "with open(\"lambda_virus.fa\") as f:\n",
        "    lines = f.readlines()[1:]\n",
        "    genome = ''.join(line.strip() for line in lines)\n",
        "\n",
        "# Define the pattern\n",
        "pattern = \"ACTAAGT\"\n",
        "\n",
        "# Find the leftmost occurrence of the pattern and its reverse complement\n",
        "offset_pattern = genome.find(pattern)\n",
        "offset_rc = genome.find(reverse_complement(pattern))\n",
        "\n",
        "# Determine the minimum offset\n",
        "min_offset = min(offset_pattern, offset_rc)\n",
        "\n",
        "print(\"Offset of the leftmost occurrence of ACTAAGT or its reverse complement:\", min_offset)\n"
      ],
      "metadata": {
        "colab": {
          "base_uri": "https://localhost:8080/"
        },
        "id": "ln8sMTZTM0KS",
        "outputId": "1449e0d7-6143-4014-a740-bce030694409"
      },
      "execution_count": 4,
      "outputs": [
        {
          "output_type": "stream",
          "name": "stdout",
          "text": [
            "Offset of the leftmost occurrence of ACTAAGT or its reverse complement: 26028\n"
          ]
        }
      ]
    },
    {
      "cell_type": "code",
      "source": [
        "def reverse_complement(seq):\n",
        "    complement = {'A': 'T', 'C': 'G', 'G': 'C', 'T': 'A'}\n",
        "    return ''.join(complement[base] for base in reversed(seq))\n",
        "\n",
        "# Read the lambda virus genome sequence\n",
        "with open(\"lambda_virus.fa\") as f:\n",
        "    lines = f.readlines()[1:]\n",
        "    genome = ''.join(line.strip() for line in lines)\n",
        "\n",
        "# Define the pattern\n",
        "pattern = \"AGTCGA\"\n",
        "\n",
        "# Find the leftmost occurrence of the pattern and its reverse complement\n",
        "offset_pattern = genome.find(pattern)\n",
        "offset_rc = genome.find(reverse_complement(pattern))\n",
        "\n",
        "# Determine the minimum offset\n",
        "min_offset = min(offset_pattern, offset_rc)\n",
        "\n",
        "print(\"Offset of the leftmost occurrence of AGTCGA or its reverse complement:\", min_offset)\n"
      ],
      "metadata": {
        "colab": {
          "base_uri": "https://localhost:8080/"
        },
        "id": "1hb_7h6VNDPm",
        "outputId": "120c1685-946b-41b6-b0f0-1918374a468f"
      },
      "execution_count": 5,
      "outputs": [
        {
          "output_type": "stream",
          "name": "stdout",
          "text": [
            "Offset of the leftmost occurrence of AGTCGA or its reverse complement: 450\n"
          ]
        }
      ]
    },
    {
      "cell_type": "code",
      "source": [
        "def count_mismatches(seq1, seq2):\n",
        "    return sum(1 for base1, base2 in zip(seq1, seq2) if base1 != base2)\n",
        "\n",
        "def find_approximate_match(genome, pattern, max_mismatches):\n",
        "    pattern_length = len(pattern)\n",
        "    for i in range(len(genome) - pattern_length + 1):\n",
        "        window = genome[i:i+pattern_length]\n",
        "        mismatches = count_mismatches(window, pattern)\n",
        "        if mismatches <= max_mismatches:\n",
        "            return i\n",
        "    return -1\n",
        "\n",
        "# Read the lambda virus genome sequence\n",
        "with open(\"lambda_virus.fa\") as f:\n",
        "    lines = f.readlines()[1:]\n",
        "    genome = ''.join(line.strip() for line in lines)\n",
        "\n",
        "# Define the pattern\n",
        "pattern = \"AGGAGGTT\"\n",
        "\n",
        "# Find the leftmost occurrence of the pattern with up to 2 mismatches\n",
        "offset = find_approximate_match(genome, pattern, 2)\n",
        "\n",
        "print(\"Offset of the leftmost occurrence of AGGAGGTT with up to 2 mismatches:\", offset)\n"
      ],
      "metadata": {
        "colab": {
          "base_uri": "https://localhost:8080/"
        },
        "id": "lgV3gqDCNVt2",
        "outputId": "d0202981-f4c9-42fc-a50f-447101502686"
      },
      "execution_count": 6,
      "outputs": [
        {
          "output_type": "stream",
          "name": "stdout",
          "text": [
            "Offset of the leftmost occurrence of AGGAGGTT with up to 2 mismatches: 49\n"
          ]
        }
      ]
    },
    {
      "cell_type": "code",
      "source": [
        "def naive_2mm(p, t):\n",
        "    occurrences = []\n",
        "    for i in range(len(t) - len(p) + 1):\n",
        "        match = True\n",
        "        mismatches = 0\n",
        "        for j in range(len(p)):\n",
        "            if t[i+j] != p[j]:\n",
        "                mismatches += 1\n",
        "                if mismatches > 2:\n",
        "                    match = False\n",
        "                    break\n",
        "        if match:\n",
        "            occurrences.append(i)\n",
        "    return occurrences\n",
        "\n",
        "# Read the lambda virus genome sequence\n",
        "with open(\"lambda_virus.fa\") as f:\n",
        "    lines = f.readlines()[1:]\n",
        "    genome = ''.join(line.strip() for line in lines)\n",
        "\n",
        "# Define the pattern\n",
        "pattern = \"TTCAAGCC\"\n",
        "\n",
        "# Find the occurrences of the pattern with up to 2 mismatches\n",
        "occurrences = naive_2mm(pattern, genome)\n",
        "\n",
        "print(\"Occurrences of TTCAAGCC with up to 2 mismatches:\", occurrences)\n",
        "print(\"Number of occurrences:\", len(occurrences))\n"
      ],
      "metadata": {
        "colab": {
          "base_uri": "https://localhost:8080/"
        },
        "id": "IKDxMYonNk0q",
        "outputId": "a1601336-4457-4890-bcb1-c48107d1c79f"
      },
      "execution_count": 7,
      "outputs": [
        {
          "output_type": "stream",
          "name": "stdout",
          "text": [
            "Occurrences of TTCAAGCC with up to 2 mismatches: [45, 418, 656, 776, 975, 1311, 1346, 3166, 3265, 3292, 3544, 4237, 4378, 4481, 4518, 5240, 5369, 5597, 5773, 5871, 5971, 6350, 6365, 6564, 6572, 6684, 6731, 6764, 6765, 6929, 7026, 7487, 7783, 7790, 8222, 8251, 8284, 8749, 9078, 9197, 9506, 9942, 10734, 10969, 11211, 11331, 11453, 11640, 11973, 12711, 13670, 13750, 13884, 14687, 14884, 15745, 16293, 16817, 17107, 17349, 17541, 17779, 17838, 18792, 19067, 19719, 19779, 21614, 21854, 22174, 22462, 22722, 22956, 23126, 23522, 23677, 23683, 23820, 23885, 24369, 24584, 24787, 25116, 25554, 26046, 26665, 26887, 27237, 27258, 28166, 28276, 28531, 28639, 28920, 28963, 29021, 29144, 29733, 29921, 30176, 30278, 30362, 30395, 30536, 30721, 30967, 31049, 31379, 31449, 31474, 31482, 31641, 31732, 31749, 31829, 31867, 31872, 32523, 32640, 32754, 32779, 32857, 32977, 33079, 33107, 33371, 33403, 33653, 33686, 33863, 34061, 34194, 34466, 34588, 34733, 34785, 35009, 35156, 35525, 35971, 36074, 36989, 37116, 37241, 37467, 37499, 37505, 37715, 37739, 37773, 37880, 37898, 38140, 38144, 38202, 38260, 38325, 38944, 38979, 40379, 40695, 40716, 40880, 41275, 41350, 41518, 41834, 42170, 42650, 42675, 42684, 42934, 42971, 42980, 43061, 43076, 43169, 44012, 44253, 44340, 44422, 44717, 44747, 45894, 46272, 46482, 47207, 47272, 47509, 47963, 48234]\n",
            "Number of occurrences: 191\n"
          ]
        }
      ]
    },
    {
      "cell_type": "code",
      "source": [
        "def read_fastq(filename):\n",
        "    sequences = []\n",
        "    qualities = []\n",
        "    with open(filename) as f:\n",
        "        while True:\n",
        "            f.readline()  # Skip the header line\n",
        "            seq = f.readline().strip()  # Read the sequence\n",
        "            f.readline()  # Skip the placeholder line\n",
        "            qual = f.readline().strip()  # Read the quality scores\n",
        "            if len(seq) == 0:\n",
        "                break\n",
        "            sequences.append(seq)\n",
        "            qualities.append(qual)\n",
        "    return sequences, qualities\n",
        "\n",
        "def find_bad_cycle(qualities):\n",
        "    cycle_scores = [0] * len(qualities[0])\n",
        "    for qual in qualities:\n",
        "        for i, score in enumerate(qual):\n",
        "            cycle_scores[i] += ord(score) - 33  # Convert ASCII to Phred quality score\n",
        "    average_scores = [score / len(qualities) for score in cycle_scores]\n",
        "    return average_scores.index(min(average_scores))\n",
        "\n",
        "# Read the FASTQ file\n",
        "sequences, qualities = read_fastq(\"ERR037900_1.first1000.fastq\")\n",
        "\n",
        "# Find the problematic sequencing cycle\n",
        "bad_cycle = find_bad_cycle(qualities)\n",
        "\n",
        "print(\"Problematic sequencing cycle:\", bad_cycle)\n"
      ],
      "metadata": {
        "colab": {
          "base_uri": "https://localhost:8080/",
          "height": 351
        },
        "id": "MW0DyR2MN7bp",
        "outputId": "ad15c52c-48d1-49b0-bd29-93b2c5c2db68"
      },
      "execution_count": 8,
      "outputs": [
        {
          "output_type": "error",
          "ename": "FileNotFoundError",
          "evalue": "[Errno 2] No such file or directory: 'ERR037900_1.first1000.fastq'",
          "traceback": [
            "\u001b[0;31m---------------------------------------------------------------------------\u001b[0m",
            "\u001b[0;31mFileNotFoundError\u001b[0m                         Traceback (most recent call last)",
            "\u001b[0;32m<ipython-input-8-2de923a15a82>\u001b[0m in \u001b[0;36m<cell line: 25>\u001b[0;34m()\u001b[0m\n\u001b[1;32m     23\u001b[0m \u001b[0;34m\u001b[0m\u001b[0m\n\u001b[1;32m     24\u001b[0m \u001b[0;31m# Read the FASTQ file\u001b[0m\u001b[0;34m\u001b[0m\u001b[0;34m\u001b[0m\u001b[0m\n\u001b[0;32m---> 25\u001b[0;31m \u001b[0msequences\u001b[0m\u001b[0;34m,\u001b[0m \u001b[0mqualities\u001b[0m \u001b[0;34m=\u001b[0m \u001b[0mread_fastq\u001b[0m\u001b[0;34m(\u001b[0m\u001b[0;34m\"ERR037900_1.first1000.fastq\"\u001b[0m\u001b[0;34m)\u001b[0m\u001b[0;34m\u001b[0m\u001b[0;34m\u001b[0m\u001b[0m\n\u001b[0m\u001b[1;32m     26\u001b[0m \u001b[0;34m\u001b[0m\u001b[0m\n\u001b[1;32m     27\u001b[0m \u001b[0;31m# Find the problematic sequencing cycle\u001b[0m\u001b[0;34m\u001b[0m\u001b[0;34m\u001b[0m\u001b[0m\n",
            "\u001b[0;32m<ipython-input-8-2de923a15a82>\u001b[0m in \u001b[0;36mread_fastq\u001b[0;34m(filename)\u001b[0m\n\u001b[1;32m      2\u001b[0m     \u001b[0msequences\u001b[0m \u001b[0;34m=\u001b[0m \u001b[0;34m[\u001b[0m\u001b[0;34m]\u001b[0m\u001b[0;34m\u001b[0m\u001b[0;34m\u001b[0m\u001b[0m\n\u001b[1;32m      3\u001b[0m     \u001b[0mqualities\u001b[0m \u001b[0;34m=\u001b[0m \u001b[0;34m[\u001b[0m\u001b[0;34m]\u001b[0m\u001b[0;34m\u001b[0m\u001b[0;34m\u001b[0m\u001b[0m\n\u001b[0;32m----> 4\u001b[0;31m     \u001b[0;32mwith\u001b[0m \u001b[0mopen\u001b[0m\u001b[0;34m(\u001b[0m\u001b[0mfilename\u001b[0m\u001b[0;34m)\u001b[0m \u001b[0;32mas\u001b[0m \u001b[0mf\u001b[0m\u001b[0;34m:\u001b[0m\u001b[0;34m\u001b[0m\u001b[0;34m\u001b[0m\u001b[0m\n\u001b[0m\u001b[1;32m      5\u001b[0m         \u001b[0;32mwhile\u001b[0m \u001b[0;32mTrue\u001b[0m\u001b[0;34m:\u001b[0m\u001b[0;34m\u001b[0m\u001b[0;34m\u001b[0m\u001b[0m\n\u001b[1;32m      6\u001b[0m             \u001b[0mf\u001b[0m\u001b[0;34m.\u001b[0m\u001b[0mreadline\u001b[0m\u001b[0;34m(\u001b[0m\u001b[0;34m)\u001b[0m  \u001b[0;31m# Skip the header line\u001b[0m\u001b[0;34m\u001b[0m\u001b[0;34m\u001b[0m\u001b[0m\n",
            "\u001b[0;31mFileNotFoundError\u001b[0m: [Errno 2] No such file or directory: 'ERR037900_1.first1000.fastq'"
          ]
        }
      ]
    },
    {
      "cell_type": "markdown",
      "source": [],
      "metadata": {
        "id": "ybYNm-MKRnTc"
      }
    }
  ]
}